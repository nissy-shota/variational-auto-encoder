{
  "nbformat": 4,
  "nbformat_minor": 0,
  "metadata": {
    "colab": {
      "name": "AutoEncoder.ipynb",
      "provenance": []
    },
    "kernelspec": {
      "name": "python3",
      "display_name": "Python 3"
    },
    "language_info": {
      "name": "python"
    },
    "accelerator": "GPU"
  },
  "cells": [
    {
      "cell_type": "code",
      "metadata": {
        "id": "K1NPhgdSrf9O"
      },
      "source": [
        "import torch\n",
        "import torch.nn as nn\n",
        "import torch.nn.functional as F\n",
        "import torch.optim as optimizers"
      ],
      "execution_count": 1,
      "outputs": []
    },
    {
      "cell_type": "code",
      "metadata": {
        "id": "gjtJMP0wwOdi"
      },
      "source": [
        "import torchvision\n",
        "import torchvision.transforms as transforms\n",
        "import numpy as np\n",
        "import matplotlib\n",
        "import matplotlib.pyplot as plt\n",
        "%matplotlib inline"
      ],
      "execution_count": 2,
      "outputs": []
    },
    {
      "cell_type": "code",
      "metadata": {
        "id": "IUZsdWIbxItB"
      },
      "source": [
        "import os\n",
        "from torch.utils.data import Dataset, DataLoader"
      ],
      "execution_count": 3,
      "outputs": []
    },
    {
      "cell_type": "code",
      "metadata": {
        "colab": {
          "base_uri": "https://localhost:8080/"
        },
        "id": "_uyKjKlBr9cX",
        "outputId": "fcf55b0b-db8e-41a1-8396-88251a08b392"
      },
      "source": [
        "print(torch.__version__)"
      ],
      "execution_count": 4,
      "outputs": [
        {
          "output_type": "stream",
          "name": "stdout",
          "text": [
            "1.9.0+cu111\n"
          ]
        }
      ]
    },
    {
      "cell_type": "code",
      "metadata": {
        "id": "OzKzpGzHu1s8",
        "colab": {
          "base_uri": "https://localhost:8080/"
        },
        "outputId": "0c4c9a04-2169-47f8-8a4b-4a339538025c"
      },
      "source": [
        "from google.colab import drive\n",
        "drive.mount('/content/gdrive')"
      ],
      "execution_count": 5,
      "outputs": [
        {
          "output_type": "stream",
          "name": "stdout",
          "text": [
            "Drive already mounted at /content/gdrive; to attempt to forcibly remount, call drive.mount(\"/content/gdrive\", force_remount=True).\n"
          ]
        }
      ]
    },
    {
      "cell_type": "code",
      "metadata": {
        "id": "4nqSqB5St82S",
        "colab": {
          "base_uri": "https://localhost:8080/"
        },
        "outputId": "2c518a65-8e29-4813-9294-7e30df46edf9"
      },
      "source": [
        "device = torch.device('cuda:0' if torch.cuda.is_available() else 'cpu')\n",
        "print(device)"
      ],
      "execution_count": 6,
      "outputs": [
        {
          "output_type": "stream",
          "name": "stdout",
          "text": [
            "cuda:0\n"
          ]
        }
      ]
    },
    {
      "cell_type": "code",
      "metadata": {
        "colab": {
          "base_uri": "https://localhost:8080/"
        },
        "id": "Q19WO__N11O4",
        "outputId": "431a0c64-5f8c-4a1a-df5b-691fc8dffb20"
      },
      "source": [
        "nn.Module"
      ],
      "execution_count": 40,
      "outputs": [
        {
          "output_type": "execute_result",
          "data": {
            "text/plain": [
              "torch.nn.modules.module.Module"
            ]
          },
          "metadata": {},
          "execution_count": 40
        }
      ]
    },
    {
      "cell_type": "code",
      "metadata": {
        "id": "gEJux4IYrkrP"
      },
      "source": [
        "class Autoencoder(nn.Module):\n",
        "    def __init__(self, device='cpu'):\n",
        "        super().__init__()\n",
        "        self.device = device\n",
        "        self.l1 = nn.Linear(784, 200)\n",
        "        self.l2 = nn.Linear(200, 784)\n",
        "\n",
        "    def forward(self, x):\n",
        "        # エンコーダ\n",
        "        h = self.l1(x)\n",
        "        # 活性化関数\n",
        "        h = torch.relu(h)\n",
        "\n",
        "        # デコーダ\n",
        "        h = self.l2(h)\n",
        "        # シグモイド関数で0～1の値域に変換   \n",
        "        y = torch.sigmoid(h)\n",
        "\n",
        "        return y"
      ],
      "execution_count": 41,
      "outputs": []
    },
    {
      "cell_type": "code",
      "metadata": {
        "id": "ZknmnNYAt2-z"
      },
      "source": [
        ""
      ],
      "execution_count": 41,
      "outputs": []
    },
    {
      "cell_type": "code",
      "metadata": {
        "id": "qkHif_5DtTsf"
      },
      "source": [
        "model = Autoencoder(device=device).to(device)"
      ],
      "execution_count": 42,
      "outputs": []
    },
    {
      "cell_type": "code",
      "metadata": {
        "id": "H_S0Xf8Gtn6Z"
      },
      "source": [
        "criterion = nn.BCELoss()"
      ],
      "execution_count": 43,
      "outputs": []
    },
    {
      "cell_type": "code",
      "metadata": {
        "id": "2GO4ZUucuDXB"
      },
      "source": [
        "optimizer = optimizers.Adam(model.parameters())"
      ],
      "execution_count": 44,
      "outputs": []
    },
    {
      "cell_type": "code",
      "metadata": {
        "id": "dJ0vnOIBvjAQ"
      },
      "source": [
        "np.random.seed(42)\n",
        "torch.manual_seed(42)\n",
        "device = torch.device('cuda' if torch.cuda.is_available else 'cpu')\n",
        "\n",
        "root = os.path.join('data', 'mnist')\n",
        "transform = transforms.Compose([\n",
        "                               transforms.ToTensor(),\n",
        "                               lambda x: x.view(-1)\n",
        "])"
      ],
      "execution_count": 45,
      "outputs": []
    },
    {
      "cell_type": "code",
      "metadata": {
        "id": "Lh8vC5VjwS4X"
      },
      "source": [
        "mnist_train = torchvision.datasets.MNIST(root,\n",
        "                                         download=True,\n",
        "                                         train=True,\n",
        "                                         transform=transform)\n",
        "mnist_test = torchvision.datasets.MNIST(root,\n",
        "                                        download=True,\n",
        "                                        train=False,\n",
        "                                        transform=transform)"
      ],
      "execution_count": 46,
      "outputs": []
    },
    {
      "cell_type": "code",
      "metadata": {
        "id": "lthmuatiwreM"
      },
      "source": [
        "train_dataloader = DataLoader(mnist_train,\n",
        "                              batch_size=100,\n",
        "                              shuffle=True)\n",
        "test_dataloader = DataLoader(mnist_test,\n",
        "                             batch_size=1,\n",
        "                             shuffle=False)"
      ],
      "execution_count": 47,
      "outputs": []
    },
    {
      "cell_type": "code",
      "metadata": {
        "id": "30GI5pMQxgC1"
      },
      "source": [
        "epochs = 10"
      ],
      "execution_count": 48,
      "outputs": []
    },
    {
      "cell_type": "code",
      "metadata": {
        "colab": {
          "base_uri": "https://localhost:8080/"
        },
        "id": "ydb9RRFL0l4x",
        "outputId": "86975a92-1b8e-484c-e0ab-8b5a52e25a74"
      },
      "source": [
        "model"
      ],
      "execution_count": 49,
      "outputs": [
        {
          "output_type": "execute_result",
          "data": {
            "text/plain": [
              "Autoencoder(\n",
              "  (l1): Linear(in_features=784, out_features=200, bias=True)\n",
              "  (l2): Linear(in_features=200, out_features=784, bias=True)\n",
              ")"
            ]
          },
          "metadata": {},
          "execution_count": 49
        }
      ]
    },
    {
      "cell_type": "code",
      "metadata": {
        "colab": {
          "base_uri": "https://localhost:8080/"
        },
        "id": "Ve3in31RxxBt",
        "outputId": "ab8f2811-6644-47d0-a44e-286875bbc514"
      },
      "source": [
        "for epoch in range(epochs):\n",
        "  train_loss = 0.\n",
        "\n",
        "  for(x, _) in train_dataloader:\n",
        "    x = x.to(device)\n",
        "    model.train()\n",
        "    preds = model(x)\n",
        "    loss = criterion(preds, x)\n",
        "    optimizer.zero_grad()\n",
        "    loss.backward()\n",
        "    optimizer.step()\n",
        "    train_loss += loss.item()\n",
        "  train_loss /= len(train_dataloader)\n",
        "\n",
        "  print(f'Epoch: {epoch+1}, Loss:{train_loss}')"
      ],
      "execution_count": 54,
      "outputs": [
        {
          "output_type": "stream",
          "name": "stdout",
          "text": [
            "Epoch: 1, Loss:0.08586971761037906\n",
            "Epoch: 2, Loss:0.07480889037251473\n",
            "Epoch: 3, Loss:0.0710042259717981\n",
            "Epoch: 4, Loss:0.06912454651047786\n",
            "Epoch: 5, Loss:0.06798914976418019\n",
            "Epoch: 6, Loss:0.06721357156212131\n",
            "Epoch: 7, Loss:0.06667400173222025\n",
            "Epoch: 8, Loss:0.0662981922365725\n",
            "Epoch: 9, Loss:0.06601370912666123\n",
            "Epoch: 10, Loss:0.06577797700340549\n"
          ]
        }
      ]
    },
    {
      "cell_type": "code",
      "metadata": {
        "id": "bgZeDIeX03El"
      },
      "source": [
        "x, _ = next(iter(test_dataloader))\n",
        "x = x.to(device)"
      ],
      "execution_count": 55,
      "outputs": []
    },
    {
      "cell_type": "code",
      "metadata": {
        "colab": {
          "base_uri": "https://localhost:8080/"
        },
        "id": "JCflJT4Z0_LH",
        "outputId": "3e79b704-9ef2-43b9-a39e-a4db0c111a23"
      },
      "source": [
        "model.eval()"
      ],
      "execution_count": 56,
      "outputs": [
        {
          "output_type": "execute_result",
          "data": {
            "text/plain": [
              "Autoencoder(\n",
              "  (l1): Linear(in_features=784, out_features=200, bias=True)\n",
              "  (l2): Linear(in_features=200, out_features=784, bias=True)\n",
              ")"
            ]
          },
          "metadata": {},
          "execution_count": 56
        }
      ]
    },
    {
      "cell_type": "code",
      "metadata": {
        "id": "FW4rPD5i1BGc"
      },
      "source": [
        "x_rec = model(x)"
      ],
      "execution_count": 57,
      "outputs": []
    },
    {
      "cell_type": "code",
      "metadata": {
        "colab": {
          "base_uri": "https://localhost:8080/",
          "height": 183
        },
        "id": "pmPdPkwJ1E_h",
        "outputId": "3bab6e89-571e-4d66-b8c2-0eb3c0225a72"
      },
      "source": [
        "for i, image in enumerate([x, x_rec]):\n",
        "  image = image.view(28, 28).detach().cpu().numpy()\n",
        "  plt.subplot(1,2,i+1)\n",
        "  plt.imshow(image, cmap='binary_r')\n",
        "  plt.axis('off')\n",
        "plt.show()"
      ],
      "execution_count": 58,
      "outputs": [
        {
          "output_type": "display_data",
          "data": {
            "image/png": "[encoded data removed]",
            "text/plain": [
              "<Figure size 432x288 with 2 Axes>"
            ]
          },
          "metadata": {
            "needs_background": "light"
          }
        }
      ]
    }
  ]
}