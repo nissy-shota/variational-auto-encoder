{
  "nbformat": 4,
  "nbformat_minor": 0,
  "metadata": {
    "colab": {
      "name": "varialtional_autoencoder.ipynb",
      "provenance": []
    },
    "kernelspec": {
      "name": "python3",
      "display_name": "Python 3"
    },
    "language_info": {
      "name": "python"
    },
    "accelerator": "GPU"
  },
  "cells": [
    {
      "cell_type": "code",
      "metadata": {
        "id": "M96Tm9wTEtkx"
      },
      "source": [
        "import torch\n",
        "import torchvision"
      ],
      "execution_count": 25,
      "outputs": []
    },
    {
      "cell_type": "code",
      "metadata": {
        "colab": {
          "base_uri": "https://localhost:8080/"
        },
        "id": "t538FZpZE0Zu",
        "outputId": "e28c075c-848a-4d63-c821-1e4cc5625af9"
      },
      "source": [
        "print(f'torch: {torch.__version__}')\n",
        "print(f'torchvision: {torchvision.__version__}')"
      ],
      "execution_count": 26,
      "outputs": [
        {
          "output_type": "stream",
          "name": "stdout",
          "text": [
            "torch: 1.9.0+cu111\n",
            "torchvision: 0.10.0+cu111\n"
          ]
        }
      ]
    },
    {
      "cell_type": "code",
      "metadata": {
        "id": "qgoeorobFCQT"
      },
      "source": [
        "import os\n",
        "import numpy as np\n",
        "import torch\n",
        "import torch.nn as nn\n",
        "import torch.optim as optimizers\n",
        "import torch.nn.functional as F\n",
        "from torch.utils.data import Dataset, DataLoader\n",
        "import torchvision\n",
        "import torchvision.transforms as transforms\n",
        "import matplotlib\n",
        "import matplotlib.pyplot as plt\n",
        "%matplotlib inline"
      ],
      "execution_count": 27,
      "outputs": []
    },
    {
      "cell_type": "code",
      "metadata": {
        "id": "0WusR9aoFKJX"
      },
      "source": [
        "np.random.seed(1234)\n",
        "torch.manual_seed(33)\n",
        "device = torch.device('cuda' if torch.cuda.is_available() else 'cpu')"
      ],
      "execution_count": 28,
      "outputs": []
    },
    {
      "cell_type": "code",
      "metadata": {
        "colab": {
          "base_uri": "https://localhost:8080/"
        },
        "id": "Cd-jCrhrH7cF",
        "outputId": "9ccd3d76-9db4-4559-a67d-1d092a0ad7d1"
      },
      "source": [
        "print(f'Device:{device}')"
      ],
      "execution_count": 29,
      "outputs": [
        {
          "output_type": "stream",
          "name": "stdout",
          "text": [
            "Device:cuda\n"
          ]
        }
      ]
    },
    {
      "cell_type": "code",
      "metadata": {
        "id": "gc0E4cdqFaDL"
      },
      "source": [
        "root = os.path.join('data', 'mnist')"
      ],
      "execution_count": 30,
      "outputs": []
    },
    {
      "cell_type": "code",
      "metadata": {
        "id": "adecLfVOFopv"
      },
      "source": [
        "transform = transforms.Compose([\n",
        "                               transforms.ToTensor(),\n",
        "                               lambda x: x.view(-1)\n",
        "])"
      ],
      "execution_count": 31,
      "outputs": []
    },
    {
      "cell_type": "code",
      "metadata": {
        "id": "u9sqWXEWF2lx"
      },
      "source": [
        "mnist_train = torchvision.datasets.MNIST(root=root,\n",
        "                                         download=True,\n",
        "                                         train=True,\n",
        "                                         transform=transform)\n",
        "\n",
        "mnist_test = torchvision.datasets.MNIST(root=root,\n",
        "                                        download=True,\n",
        "                                        train=False,\n",
        "                                        transform=transform\n",
        "                                        )"
      ],
      "execution_count": 32,
      "outputs": []
    },
    {
      "cell_type": "code",
      "metadata": {
        "colab": {
          "base_uri": "https://localhost:8080/"
        },
        "id": "Gdm4Wdl7HdNL",
        "outputId": "23396843-2afc-43ee-b8fc-0879fe0d15dd"
      },
      "source": [
        "mnist_train"
      ],
      "execution_count": 33,
      "outputs": [
        {
          "output_type": "execute_result",
          "data": {
            "text/plain": [
              "Dataset MNIST\n",
              "    Number of datapoints: 60000\n",
              "    Root location: data/mnist\n",
              "    Split: Train\n",
              "    StandardTransform\n",
              "Transform: Compose(\n",
              "               ToTensor()\n",
              "               <function <lambda> at 0x7f140005bef0>\n",
              "           )"
            ]
          },
          "metadata": {},
          "execution_count": 33
        }
      ]
    },
    {
      "cell_type": "code",
      "metadata": {
        "colab": {
          "base_uri": "https://localhost:8080/"
        },
        "id": "-Zlka_8eHkuF",
        "outputId": "cccedf0a-2cf4-40e7-c4ed-a40bff756b20"
      },
      "source": [
        "mnist_test"
      ],
      "execution_count": 34,
      "outputs": [
        {
          "output_type": "execute_result",
          "data": {
            "text/plain": [
              "Dataset MNIST\n",
              "    Number of datapoints: 10000\n",
              "    Root location: data/mnist\n",
              "    Split: Test\n",
              "    StandardTransform\n",
              "Transform: Compose(\n",
              "               ToTensor()\n",
              "               <function <lambda> at 0x7f140005bef0>\n",
              "           )"
            ]
          },
          "metadata": {},
          "execution_count": 34
        }
      ]
    },
    {
      "cell_type": "code",
      "metadata": {
        "id": "LaV1bsK4Gy5z"
      },
      "source": [
        "train_dataloader = DataLoader(mnist_train,\n",
        "                              batch_size=100,\n",
        "                              shuffle=True)\n",
        "test_dataloader = DataLoader(mnist_test,\n",
        "                             batch_size=100,\n",
        "                             shuffle=False)"
      ],
      "execution_count": 35,
      "outputs": []
    },
    {
      "cell_type": "code",
      "metadata": {
        "id": "T9lNqd0bGzv9"
      },
      "source": [
        "# for x in train_dataloader:\n",
        "#     print(x)\n",
        "#     break"
      ],
      "execution_count": 36,
      "outputs": []
    },
    {
      "cell_type": "markdown",
      "metadata": {
        "id": "47bGmUaUHvzg"
      },
      "source": [
        "VAE Class"
      ]
    },
    {
      "cell_type": "code",
      "metadata": {
        "id": "8eHRU31YHXp0"
      },
      "source": [
        "class VAE(nn.Module):\n",
        "    \"\"\"\n",
        "    Variation AutoEncoder\n",
        "    \"\"\"\n",
        "    def __init__(self, device='cpu'):\n",
        "        super().__init__()\n",
        "        self.device = device\n",
        "        self.encoder = Encoder(device=device)\n",
        "        self.decoder = Decoder(device=device)\n",
        "\n",
        "    def forward(self, x):\n",
        "\n",
        "        mean, var = self.encoder(x)\n",
        "        # Creating latent variables\n",
        "        z = self.reparameterize(mean, var)\n",
        "\n",
        "        y = self.decoder(z)\n",
        "        # Generated images and latent variables\n",
        "        return y, z\n",
        "\n",
        "    def reparameterize(self, mean, var):\n",
        "        \"\"\"\n",
        "        Creating latent variables\n",
        "        \"\"\"\n",
        "        # Creating a standard normal distribution\n",
        "        eps = torch.randn(mean.size()).to(self.device)\n",
        "        # Reparameterization trick\n",
        "        z = mean + torch.sqrt(var) * eps\n",
        "\n",
        "        return z\n",
        "\n",
        "    def lower_bound(self, x):\n",
        "        # Variance and mean vectors\n",
        "        mean, var = self.encoder(x)\n",
        "\n",
        "        # Creating latent variables from means and variances\n",
        "        z = self.reparameterize(mean, var)\n",
        "        # Create a generated image from a latent variable\n",
        "        y = self.decoder(z)\n",
        "        # Reconstruction error\n",
        "        reconst = - torch.mean(torch.sum(x * torch.log(y) + (1-x) * torch.log(1-y),dim=1))\n",
        "        # Regularization\n",
        "        kl = - 1/2 * torch.mean(torch.sum(1\n",
        "                                          + torch.log(var)\n",
        "                                          - mean**2\n",
        "                                          - var, dim=1))\n",
        "\n",
        "        L = reconst + kl\n",
        "\n",
        "        return L"
      ],
      "execution_count": 37,
      "outputs": []
    },
    {
      "cell_type": "code",
      "metadata": {
        "id": "z-dJ9QgZJ_FN"
      },
      "source": [
        "class Encoder(nn.Module):\n",
        "\n",
        "    def __init__(self, device='cpu'):\n",
        "        super().__init__()\n",
        "        self.device = device\n",
        "        self.l1 = nn.Linear(784, 200)\n",
        "        self.l_mean = nn.Linear(200, 10)\n",
        "        self.l_var = nn.Linear(200, 10)\n",
        "\n",
        "    def forward(self, x):\n",
        "\n",
        "        h = self.l1(x)\n",
        "        h = torch.relu(h)\n",
        "\n",
        "        mean = self.l_mean(h)\n",
        "        var = self.l_var(h)\n",
        "\n",
        "        var = F.softplus(var)\n",
        "\n",
        "        return mean, var"
      ],
      "execution_count": 38,
      "outputs": []
    },
    {
      "cell_type": "code",
      "metadata": {
        "id": "a_vg7JGTME6G"
      },
      "source": [
        "class Decoder(nn.Module):\n",
        "\n",
        "    def __init__(self, device):\n",
        "        super().__init__()\n",
        "        self.device = device\n",
        "        self.l1 = nn.Linear(10, 200)\n",
        "        self.out = nn.Linear(200, 784)\n",
        "\n",
        "    def forward(self, x):\n",
        "\n",
        "        h = self.l1(x)\n",
        "        h = torch.relu(h)\n",
        "        h = self.out(h)\n",
        "        y = torch.sigmoid(h)\n",
        "\n",
        "        return y"
      ],
      "execution_count": 39,
      "outputs": []
    },
    {
      "cell_type": "code",
      "metadata": {
        "id": "TQ8mD0QoM6oO"
      },
      "source": [
        "model = VAE(device=device).to(device)"
      ],
      "execution_count": 40,
      "outputs": []
    },
    {
      "cell_type": "code",
      "metadata": {
        "id": "Dj7_1QBCb1ti"
      },
      "source": [
        "criterion = model.lower_bound"
      ],
      "execution_count": 41,
      "outputs": []
    },
    {
      "cell_type": "code",
      "metadata": {
        "id": "y_BF8J79b4-s"
      },
      "source": [
        "optimizer = optimizers.Adam(model.parameters())"
      ],
      "execution_count": 42,
      "outputs": []
    },
    {
      "cell_type": "code",
      "metadata": {
        "colab": {
          "base_uri": "https://localhost:8080/"
        },
        "id": "ZCPwLgXEb-ht",
        "outputId": "ef67c7c7-b134-438a-d626-01b7d6df8c64"
      },
      "source": [
        "print(model)"
      ],
      "execution_count": 43,
      "outputs": [
        {
          "output_type": "stream",
          "name": "stdout",
          "text": [
            "VAE(\n",
            "  (encoder): Encoder(\n",
            "    (l1): Linear(in_features=784, out_features=200, bias=True)\n",
            "    (l_mean): Linear(in_features=200, out_features=10, bias=True)\n",
            "    (l_var): Linear(in_features=200, out_features=10, bias=True)\n",
            "  )\n",
            "  (decoder): Decoder(\n",
            "    (l1): Linear(in_features=10, out_features=200, bias=True)\n",
            "    (out): Linear(in_features=200, out_features=784, bias=True)\n",
            "  )\n",
            ")\n"
          ]
        }
      ]
    },
    {
      "cell_type": "code",
      "metadata": {
        "colab": {
          "base_uri": "https://localhost:8080/"
        },
        "id": "QSuWId1IdhBQ",
        "outputId": "72ad42c1-306d-44f3-9683-954d4410acdf"
      },
      "source": [
        "!pip install torchinfo"
      ],
      "execution_count": 44,
      "outputs": [
        {
          "output_type": "stream",
          "name": "stdout",
          "text": [
            "Requirement already satisfied: torchinfo in /usr/local/lib/python3.7/dist-packages (1.5.3)\n"
          ]
        }
      ]
    },
    {
      "cell_type": "code",
      "metadata": {
        "id": "wfT3XFCBb_0u"
      },
      "source": [
        "from torchinfo import summary"
      ],
      "execution_count": 45,
      "outputs": []
    },
    {
      "cell_type": "code",
      "metadata": {
        "id": "WgzGwb79calm"
      },
      "source": [
        "# summary(model, input_size=(100,784))"
      ],
      "execution_count": 46,
      "outputs": []
    },
    {
      "cell_type": "code",
      "metadata": {
        "id": "-zsAiJMMcjLP"
      },
      "source": [
        "EPOCHS = 20"
      ],
      "execution_count": 47,
      "outputs": []
    },
    {
      "cell_type": "code",
      "metadata": {
        "colab": {
          "base_uri": "https://localhost:8080/"
        },
        "id": "67LfYzcFd-GW",
        "outputId": "862c7052-f8d0-4160-8715-790a0e9f9576"
      },
      "source": [
        "print(f'training...')\n",
        "for epoch in range(EPOCHS):\n",
        "    \n",
        "    train_loss = 0\n",
        "    \n",
        "    for (x, _) in train_dataloader:\n",
        "        x = x.to(device)\n",
        "\n",
        "        model.train()\n",
        "        loss = criterion(x)\n",
        "        optimizer.zero_grad()\n",
        "        loss.backward()\n",
        "        optimizer.step()\n",
        "        \n",
        "        train_loss += loss.item()\n",
        "    \n",
        "    train_loss /= len(train_dataloader)\n",
        "\n",
        "    print(f'epoch:{epoch}, loss{train_loss}')"
      ],
      "execution_count": 49,
      "outputs": [
        {
          "output_type": "stream",
          "name": "stdout",
          "text": [
            "training...\n",
            "epoch:0, loss128.59947786966958\n",
            "training...\n",
            "epoch:1, loss122.97611635843913\n",
            "training...\n",
            "epoch:2, loss120.08165091196696\n",
            "training...\n",
            "epoch:3, loss118.24465227762857\n",
            "training...\n",
            "epoch:4, loss116.95084452311198\n",
            "training...\n",
            "epoch:5, loss115.91277154286702\n",
            "training...\n",
            "epoch:6, loss115.1864667638143\n",
            "training...\n",
            "epoch:7, loss114.5314369837443\n",
            "training...\n",
            "epoch:8, loss113.99460336049398\n",
            "training...\n",
            "epoch:9, loss113.54961400349934\n",
            "training...\n",
            "epoch:10, loss113.15257930755615\n",
            "training...\n",
            "epoch:11, loss112.79018432617187\n",
            "training...\n",
            "epoch:12, loss112.47658683776855\n",
            "training...\n",
            "epoch:13, loss112.15336185455322\n",
            "training...\n",
            "epoch:14, loss111.87560171763103\n",
            "training...\n",
            "epoch:15, loss111.6443752670288\n",
            "training...\n",
            "epoch:16, loss111.4069567489624\n",
            "training...\n",
            "epoch:17, loss111.18217501322428\n",
            "training...\n",
            "epoch:18, loss110.9564126586914\n",
            "training...\n",
            "epoch:19, loss110.7797013982137\n"
          ]
        }
      ]
    },
    {
      "cell_type": "code",
      "metadata": {
        "id": "A0uBmoPleUV2",
        "colab": {
          "base_uri": "https://localhost:8080/",
          "height": 251
        },
        "outputId": "fcf8c606-d88b-4c84-98e8-b030d46f4dc2"
      },
      "source": [
        "batch_size=8\n",
        "\n",
        "z = torch.randn(batch_size, 10, device=device)\n",
        "\n",
        "model.eval()\n",
        "\n",
        "images = model.decoder(z)\n",
        "images = images.view(-1, 28, 28)\n",
        "images = images.squeeze().detach().cpu().numpy()\n",
        "\n",
        "for i, image in enumerate(images):\n",
        "    plt.subplot(2, 4, i+1)\n",
        "    plt.imshow(image, cmap='binary_r')\n",
        "    plt.axis('off')\n",
        "plt.tight_layout()\n",
        "plt.show()"
      ],
      "execution_count": 52,
      "outputs": [
        {
          "output_type": "display_data",
          "data": {
            "image/png": "[encoded data removed]",
            "text/plain": [
              "<Figure size 432x288 with 8 Axes>"
            ]
          },
          "metadata": {
            "needs_background": "light"
          }
        }
      ]
    },
    {
      "cell_type": "code",
      "metadata": {
        "colab": {
          "base_uri": "https://localhost:8080/",
          "height": 197
        },
        "id": "KpH7yYYPPGAA",
        "outputId": "f87a4aab-3a86-4c67-e8c0-bc7d40f2ae24"
      },
      "source": [
        "fig = plt.figure(figsize=(10,3))\n",
        "\n",
        "for x, t in test_dataloader:\n",
        "    for i, im in enumerate(x.view(-1, 28, 28).detach().numpy()[:10]):\n",
        "        ax = fig.add_subplot(3, 10, i+1, xticks=[], yticks=[])\n",
        "        ax.imshow(im, 'gray')\n",
        "    \n",
        "    x = x.to(device)\n",
        "    y, z = model(x)\n",
        "    y = y.view(-1, 28, 28)\n",
        "    for i, im in enumerate(y.cpu().detach().numpy()[:10]):\n",
        "        ax = fig.add_subplot(3, 10, i+11, xticks=[],yticks=[])\n",
        "        ax.imshow(im, 'gray')\n",
        "    z1to0 = torch.cat([z[1] * (i*0.1) + z[0] * ((9 - i)* 0.1) for i in range(10)]).reshape(10, 10)\n",
        "    y2 = model.decoder(z1to0).view(-1, 28, 28)\n",
        "\n",
        "    for i, im in enumerate(y2.cpu().detach().numpy()):\n",
        "        ax = fig.add_subplot(3, 10, i+21, xticks=[], yticks=[])\n",
        "        ax.imshow(im, 'gray')\n",
        "    break"
      ],
      "execution_count": 58,
      "outputs": [
        {
          "output_type": "display_data",
          "data": {
            "image/png": "[encoded data removed]",
            "text/plain": [
              "<Figure size 720x216 with 30 Axes>"
            ]
          },
          "metadata": {}
        }
      ]
    }
  ]
}